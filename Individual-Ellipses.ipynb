{
 "cells": [
  {
   "cell_type": "code",
   "execution_count": 78,
   "id": "e60b8f9b-03f6-4218-9454-fed03cb3336a",
   "metadata": {},
   "outputs": [
    {
     "name": "stdout",
     "output_type": "stream",
     "text": [
      "File organization complete.\n"
     ]
    }
   ],
   "source": [
    "import numpy as np \n",
    "import pandas as pd\n",
    "import matplotlib.pyplot as plt\n",
    "import os\n",
    "import re \n",
    "from collections import defaultdict\n",
    "from PIL import Image\n",
    "import matplotlib.cm as cm\n",
    "\n",
    "#Here we define the diractory as follows :\n",
    "Y_Data_Dir = \"/home/yazeed/Desktop/Ellipse_Simulation/Ellipes-Y-axis\" #This is for Y-Ellipses \n",
    "X_Data_Dir = \"/home/yazeed/Desktop/Ellipse_Simulation/Ellipse-X-axis\" #This is for the X-Ellipses\n",
    "org_Data_Dir = \"/home/yazeed/Desktop/Ellipse_Simulation/Organized_Data\"\n",
    "Y_Data_Path = \"/home/yazeed/Desktop/Ellipse_Simulation/Organized_Data/Y-Ellipses\"\n",
    "X_Data_Path = \"/home/yazeed/Desktop/Ellipse_Simulation/Organized_Data/X-Ellipses\"\n",
    "Figure_Path = \"/home/yazeed/Desktop/Ellipse_Simulation/Organized_Data/Figures\"\n",
    "PROJECT_DIR = [Y_Data_Dir, X_Data_Dir, org_Data_Dir, Y_Data_Path, X_Data_Path, Figure_Path]\n",
    "for dir in PROJECT_DIR:\n",
    "    if not os.path.exists(dir):\n",
    "        print(f\"Path does not exsits {dir}. Creating it .....\")\n",
    "        os.mkdir(dir)\n",
    "        \n",
    "#Then we get the files name in each folder as follows \n",
    "Y_file_name = [f for f in os.listdir(Y_Data_Dir) if f.endswith(\".txt\")]\n",
    "X_file_name = [f for f in os.listdir(X_Data_Dir) if f.endswith(\".txt\")]\n",
    "\n",
    "#Then we need to sort the files based on the different PMMA thicknesses and energies \n",
    "thickness_pattern= re.compile(r'PMMA_(\\d+)_mm')\n",
    "energy_pattern = re.compile(r'Energy_(\\d+(_\\d+)?)_Mev')\n",
    "\n",
    "# Create a dictionary to organize files by (thickness, energy)\n",
    "Y_files_by_thickness_and_energy = defaultdict(list)\n",
    "X_files_by_thickness_and_energy = defaultdict(list)\n",
    "\n",
    "# Process each file name within the Y_Data_Ellipses\n",
    "\n",
    "for file_name in Y_file_name:\n",
    "    thickness_match = thickness_pattern.search(file_name)\n",
    "    energy_match = energy_pattern.search(file_name)\n",
    "    \n",
    "    if thickness_match:\n",
    "        thickness = thickness_match.group(1)\n",
    "    else:\n",
    "        thickness = '20' \n",
    "\n",
    "    if energy_match:\n",
    "        energy = energy_match.group(1)\n",
    "    else:\n",
    "        energy = 'unknown' \n",
    "    \n",
    "    Y_files_by_thickness_and_energy[(thickness, energy)].append(file_name)\n",
    "\n",
    "for file_name in X_file_name:\n",
    "    thickness_match = thickness_pattern.search(file_name)\n",
    "    energy_match = energy_pattern.search(file_name)\n",
    "    \n",
    "    if thickness_match:\n",
    "        thickness = thickness_match.group(1)\n",
    "    else:\n",
    "        thickness = '20' \n",
    "\n",
    "    if energy_match:\n",
    "        energy = energy_match.group(1)\n",
    "    else:\n",
    "        energy = 'unknown' \n",
    "    \n",
    "    X_files_by_thickness_and_energy[(thickness, energy)].append(file_name)\n",
    "\n",
    "\n",
    "# Create directories and move files\n",
    "for (thickness, energy), files in Y_files_by_thickness_and_energy.items():\n",
    "    # Define the directory path based on thickness and energy\n",
    "    dir_path = os.path.join(Y_Data_Path, f\"PMMA_{thickness}_mm_Energy_{energy}_Mev\")\n",
    "    \n",
    "    # Create directory if it doesn't exist\n",
    "    if not os.path.exists(dir_path):\n",
    "        os.makedirs(dir_path)\n",
    "    \n",
    "    # Move files to the corresponding directory\n",
    "    for file in files:\n",
    "        src = os.path.join(Y_Data_Dir, file)\n",
    "        dst = os.path.join(dir_path, file)\n",
    "        os.rename(src, dst)\n",
    "        print(f\"Moved file {file} to {dir_path}\")\n",
    "\n",
    "\n",
    "# Create directories and move files\n",
    "for (thickness, energy), files in X_files_by_thickness_and_energy.items():\n",
    "    # Define the directory path based on thickness and energy\n",
    "    dir_path = os.path.join(X_Data_Path, f\"PMMA_{thickness}_mm_Energy_{energy}_Mev\")\n",
    "    \n",
    "    # Create directory if it doesn't exist\n",
    "    if not os.path.exists(dir_path):\n",
    "        os.makedirs(dir_path)\n",
    "    \n",
    "    # Move files to the corresponding directory\n",
    "    for file in files:\n",
    "        src = os.path.join(X_Data_Dir, file)\n",
    "        dst = os.path.join(dir_path, file)\n",
    "        os.rename(src, dst)\n",
    "        print(f\"Moved file {file} to {dir_path}\")\n",
    "\n",
    "print(\"File organization complete.\") #EventID"
   ]
  },
  {
   "cell_type": "code",
   "execution_count": 72,
   "id": "894aebfe-9da7-4626-a809-d0f9bf5255da",
   "metadata": {},
   "outputs": [],
   "source": [
    "def process_files_for_angles(file_names, path, energy):\n",
    "    for angle in angles:\n",
    "        Vx = []\n",
    "        Vy = []\n",
    "        E_id = []\n",
    "        # Filter files for the specific angle\n",
    "        angle_files = [f for f in file_names if angle_pattern.search(f) and int(angle_pattern.search(f).group(1)) == angle]\n",
    "        \n",
    "        for file_name in angle_files:\n",
    "            file_path = os.path.join(path, file_name)\n",
    "            df = pd.read_csv(file_path, delimiter=\" \")\n",
    "            # Ensure the columns are present\n",
    "            if 'VertexX' in df.columns and 'VertexY' and 'EventID' in df.columns:\n",
    "                Vx.extend(df['VertexX'].tolist())\n",
    "                Vy.extend(df['VertexY'].tolist())\n",
    "                E_id.extend(df['EventID'].tolist())\n",
    "                \n",
    "            else:\n",
    "                print(f\"Columns 'Vertex X' and 'Vertex Y' not found in {file_name}\")\n",
    "        \n",
    "        # Save the data for the current angle\n",
    "        if Vx and Vy:  # Ensure there is data to save\n",
    "            data_df = pd.DataFrame({'VertexX': Vx, 'VertexY': Vy, 'EventID': E_id})\n",
    "            output_path = os.path.join(path, f'PMMA_14_mm_Energy_{energy}_Angle_{angle}.csv')\n",
    "            data_df.to_csv(output_path, index=False)\n",
    "            print(f\"Data for Angle {angle} saved to {output_path}\")\n",
    "\n",
    "def load_data_for_angle(path, energy, angle):\n",
    "    file_path = os.path.join(path, f'PMMA_14_mm_Energy_{energy}_Angle_{angle}.csv')\n",
    "    if os.path.exists(file_path):\n",
    "        df = pd.read_csv(file_path)\n",
    "        return df\n",
    "    else:\n",
    "        print(f\"File {file_path} does not exist.\")\n",
    "        return None\n",
    "\n",
    "def plot_2d_histogram(df, energy, angle, output_path, PMMA_thickness):\n",
    "    plt.figure(figsize=(8, 6))\n",
    "    plt.hist2d(df['VertexX'], df['VertexY'], bins=30, cmap='viridis', cmin=1)\n",
    "    plt.colorbar(label='Counts')\n",
    "    plt.title(f'2D Histogram of Vertex X vs Vertex Y\\n PMMA thickness: {PMMA_thickness} mm, Energy: {energy} MeV, Angle: {angle}°')\n",
    "    plt.xlabel('Vertex X')\n",
    "    plt.ylabel('Vertex Y')\n",
    "    plt.grid(True)\n",
    "    plt.savefig(output_path)\n",
    "    plt.close()\n",
    "\n",
    "def create_histograms(Path_PMMA_Energy_1_5, Path_PMMA_Energy_1, Path_PMMA_Energy_2, Histogram_Output_Dir, angles, PMMA_thickness):\n",
    "    for energy, path in zip(['1_5_Mev', '1_Mev', '2_Mev'], \n",
    "                            [Path_PMMA_Energy_1_5, Path_PMMA_Energy_1, Path_PMMA_Energy_2]):\n",
    "        for angle in angles:\n",
    "            df = load_data_for_angle(path, energy, angle)\n",
    "            if df is not None:\n",
    "                # Create a unique directory for each energy\n",
    "                energy_dir = os.path.join(Histogram_Output_Dir, f'Energy_{energy}')\n",
    "                if not os.path.exists(energy_dir):\n",
    "                    os.makedirs(energy_dir)\n",
    "                \n",
    "                output_path = os.path.join(energy_dir, f'2D_Histogram_Angle_{angle}.png')\n",
    "                plot_2d_histogram(df, energy, angle, output_path, PMMA_thickness)\n",
    "                print(f\"Histogram saved to {output_path}\")"
   ]
  },
  {
   "cell_type": "code",
   "execution_count": 74,
   "id": "8f927c1b-c2f6-4e19-8420-e17296ea8565",
   "metadata": {},
   "outputs": [
    {
     "name": "stdout",
     "output_type": "stream",
     "text": [
      "Data for Angle 0 saved to /home/yazeed/Desktop/Ellipse_Simulation/Organized_Data/Y-Ellipses/PMMA_14_mm_Energy_1_5_Mev/PMMA_14_mm_Energy_1_5_Mev_Angle_0.csv\n",
      "Data for Angle 5 saved to /home/yazeed/Desktop/Ellipse_Simulation/Organized_Data/Y-Ellipses/PMMA_14_mm_Energy_1_5_Mev/PMMA_14_mm_Energy_1_5_Mev_Angle_5.csv\n",
      "Data for Angle 10 saved to /home/yazeed/Desktop/Ellipse_Simulation/Organized_Data/Y-Ellipses/PMMA_14_mm_Energy_1_5_Mev/PMMA_14_mm_Energy_1_5_Mev_Angle_10.csv\n",
      "Data for Angle 15 saved to /home/yazeed/Desktop/Ellipse_Simulation/Organized_Data/Y-Ellipses/PMMA_14_mm_Energy_1_5_Mev/PMMA_14_mm_Energy_1_5_Mev_Angle_15.csv\n",
      "Data for Angle 20 saved to /home/yazeed/Desktop/Ellipse_Simulation/Organized_Data/Y-Ellipses/PMMA_14_mm_Energy_1_5_Mev/PMMA_14_mm_Energy_1_5_Mev_Angle_20.csv\n",
      "Data for Angle 25 saved to /home/yazeed/Desktop/Ellipse_Simulation/Organized_Data/Y-Ellipses/PMMA_14_mm_Energy_1_5_Mev/PMMA_14_mm_Energy_1_5_Mev_Angle_25.csv\n",
      "Data for Angle 0 saved to /home/yazeed/Desktop/Ellipse_Simulation/Organized_Data/Y-Ellipses/PMMA_14_mm_Energy_1_Mev/PMMA_14_mm_Energy_1_Mev_Angle_0.csv\n",
      "Data for Angle 5 saved to /home/yazeed/Desktop/Ellipse_Simulation/Organized_Data/Y-Ellipses/PMMA_14_mm_Energy_1_Mev/PMMA_14_mm_Energy_1_Mev_Angle_5.csv\n",
      "Data for Angle 10 saved to /home/yazeed/Desktop/Ellipse_Simulation/Organized_Data/Y-Ellipses/PMMA_14_mm_Energy_1_Mev/PMMA_14_mm_Energy_1_Mev_Angle_10.csv\n",
      "Data for Angle 15 saved to /home/yazeed/Desktop/Ellipse_Simulation/Organized_Data/Y-Ellipses/PMMA_14_mm_Energy_1_Mev/PMMA_14_mm_Energy_1_Mev_Angle_15.csv\n",
      "Data for Angle 20 saved to /home/yazeed/Desktop/Ellipse_Simulation/Organized_Data/Y-Ellipses/PMMA_14_mm_Energy_1_Mev/PMMA_14_mm_Energy_1_Mev_Angle_20.csv\n",
      "Data for Angle 25 saved to /home/yazeed/Desktop/Ellipse_Simulation/Organized_Data/Y-Ellipses/PMMA_14_mm_Energy_1_Mev/PMMA_14_mm_Energy_1_Mev_Angle_25.csv\n",
      "Data for Angle 0 saved to /home/yazeed/Desktop/Ellipse_Simulation/Organized_Data/Y-Ellipses/PMMA_14_mm_Energy_2_Mev/PMMA_14_mm_Energy_2_Mev_Angle_0.csv\n",
      "Data for Angle 5 saved to /home/yazeed/Desktop/Ellipse_Simulation/Organized_Data/Y-Ellipses/PMMA_14_mm_Energy_2_Mev/PMMA_14_mm_Energy_2_Mev_Angle_5.csv\n",
      "Data for Angle 10 saved to /home/yazeed/Desktop/Ellipse_Simulation/Organized_Data/Y-Ellipses/PMMA_14_mm_Energy_2_Mev/PMMA_14_mm_Energy_2_Mev_Angle_10.csv\n",
      "Data for Angle 15 saved to /home/yazeed/Desktop/Ellipse_Simulation/Organized_Data/Y-Ellipses/PMMA_14_mm_Energy_2_Mev/PMMA_14_mm_Energy_2_Mev_Angle_15.csv\n",
      "Data for Angle 20 saved to /home/yazeed/Desktop/Ellipse_Simulation/Organized_Data/Y-Ellipses/PMMA_14_mm_Energy_2_Mev/PMMA_14_mm_Energy_2_Mev_Angle_20.csv\n",
      "Data for Angle 25 saved to /home/yazeed/Desktop/Ellipse_Simulation/Organized_Data/Y-Ellipses/PMMA_14_mm_Energy_2_Mev/PMMA_14_mm_Energy_2_Mev_Angle_25.csv\n",
      "Data extraction and saving complete.\n"
     ]
    }
   ],
   "source": [
    "# Define paths to the directories\n",
    "Path_PMMA_14_Energy_1_5 = \"/home/yazeed/Desktop/Ellipse_Simulation/Organized_Data/Y-Ellipses/PMMA_14_mm_Energy_1_5_Mev\"\n",
    "Path_PMMA_14_Energy_1 = \"/home/yazeed/Desktop/Ellipse_Simulation/Organized_Data/Y-Ellipses/PMMA_14_mm_Energy_1_Mev\"\n",
    "Path_PMMA_14_Energy_2 = \"/home/yazeed/Desktop/Ellipse_Simulation/Organized_Data/Y-Ellipses/PMMA_14_mm_Energy_2_Mev\"\n",
    "\n",
    "# Define the angles of interest\n",
    "angles = [0, 5, 10, 15, 20, 25]\n",
    "\n",
    "# Define regex pattern to extract angles\n",
    "angle_pattern = re.compile(r'angle_(\\d+)_degree')\n",
    "\n",
    "# Process files for each energy\n",
    "def process_all_energies():\n",
    "    # Process for Energy 1.5 Mev\n",
    "    file_names_PMMA_14_Energy_1_5 = [f for f in os.listdir(Path_PMMA_14_Energy_1_5) if f.endswith(\".txt\")]\n",
    "    process_files_for_angles(file_names_PMMA_14_Energy_1_5, Path_PMMA_14_Energy_1_5, '1_5_Mev')\n",
    "    \n",
    "    # Process for Energy 1 Mev\n",
    "    file_names_PMMA_14_Energy_1 = [f for f in os.listdir(Path_PMMA_14_Energy_1) if f.endswith(\".txt\")]\n",
    "    process_files_for_angles(file_names_PMMA_14_Energy_1, Path_PMMA_14_Energy_1, '1_Mev')\n",
    "    \n",
    "    # Process for Energy 2 Mev\n",
    "    file_names_PMMA_14_Energy_2 = [f for f in os.listdir(Path_PMMA_14_Energy_2) if f.endswith(\".txt\")]\n",
    "    process_files_for_angles(file_names_PMMA_14_Energy_2, Path_PMMA_14_Energy_2, '2_Mev')\n",
    "\n",
    "process_all_energies()\n",
    "\n",
    "print(\"Data extraction and saving complete.\")"
   ]
  },
  {
   "cell_type": "code",
   "execution_count": 96,
   "id": "b003f312-d160-4369-87ef-70dfd4da5ed8",
   "metadata": {},
   "outputs": [
    {
     "name": "stderr",
     "output_type": "stream",
     "text": [
      "/tmp/ipykernel_10311/3845790869.py:27: MatplotlibDeprecationWarning: The get_cmap function was deprecated in Matplotlib 3.7 and will be removed two minor releases later. Use ``matplotlib.colormaps[name]`` or ``matplotlib.colormaps.get_cmap(obj)`` instead.\n",
      "  cmap = cm.get_cmap('viridis')\n"
     ]
    },
    {
     "name": "stdout",
     "output_type": "stream",
     "text": [
      "Processed file Ellipes_angle_10_degree_pos_X_0_Y_0_Z_20_Energy_1_5_Mev_PMMA_14_mm_20240827_222212.txt and saved colored histograms for all EventIDs.\n"
     ]
    },
    {
     "name": "stderr",
     "output_type": "stream",
     "text": [
      "/tmp/ipykernel_10311/3845790869.py:27: MatplotlibDeprecationWarning: The get_cmap function was deprecated in Matplotlib 3.7 and will be removed two minor releases later. Use ``matplotlib.colormaps[name]`` or ``matplotlib.colormaps.get_cmap(obj)`` instead.\n",
      "  cmap = cm.get_cmap('viridis')\n"
     ]
    },
    {
     "name": "stdout",
     "output_type": "stream",
     "text": [
      "Processed file Ellipes_angle_5_degree_pos_X_0_Y_0_Z_20_Energy_1_5_Mev_PMMA_14_mm_20240827_222211.txt and saved colored histograms for all EventIDs.\n"
     ]
    },
    {
     "name": "stderr",
     "output_type": "stream",
     "text": [
      "/tmp/ipykernel_10311/3845790869.py:27: MatplotlibDeprecationWarning: The get_cmap function was deprecated in Matplotlib 3.7 and will be removed two minor releases later. Use ``matplotlib.colormaps[name]`` or ``matplotlib.colormaps.get_cmap(obj)`` instead.\n",
      "  cmap = cm.get_cmap('viridis')\n"
     ]
    },
    {
     "name": "stdout",
     "output_type": "stream",
     "text": [
      "Processed file Ellipes_angle_0_degree_pos_X_0_Y_0_Z_20_Energy_1_5_Mev_PMMA_14_mm_20240827_222212.txt and saved colored histograms for all EventIDs.\n"
     ]
    },
    {
     "name": "stderr",
     "output_type": "stream",
     "text": [
      "/tmp/ipykernel_10311/3845790869.py:27: MatplotlibDeprecationWarning: The get_cmap function was deprecated in Matplotlib 3.7 and will be removed two minor releases later. Use ``matplotlib.colormaps[name]`` or ``matplotlib.colormaps.get_cmap(obj)`` instead.\n",
      "  cmap = cm.get_cmap('viridis')\n"
     ]
    },
    {
     "name": "stdout",
     "output_type": "stream",
     "text": [
      "Processed file Ellipes_angle_15_degree_pos_X_10_Y_0_Z_20_Energy_1_5_Mev_PMMA_14_mm_20240827_222212.txt and saved colored histograms for all EventIDs.\n"
     ]
    },
    {
     "name": "stderr",
     "output_type": "stream",
     "text": [
      "/tmp/ipykernel_10311/3845790869.py:27: MatplotlibDeprecationWarning: The get_cmap function was deprecated in Matplotlib 3.7 and will be removed two minor releases later. Use ``matplotlib.colormaps[name]`` or ``matplotlib.colormaps.get_cmap(obj)`` instead.\n",
      "  cmap = cm.get_cmap('viridis')\n"
     ]
    },
    {
     "name": "stdout",
     "output_type": "stream",
     "text": [
      "Processed file Ellipes_angle_25_degree_pos_X_20_Y_0_Z_20_Energy_1_5_Mev_PMMA_14_mm_20240827_222211.txt and saved colored histograms for all EventIDs.\n"
     ]
    },
    {
     "name": "stderr",
     "output_type": "stream",
     "text": [
      "/tmp/ipykernel_10311/3845790869.py:27: MatplotlibDeprecationWarning: The get_cmap function was deprecated in Matplotlib 3.7 and will be removed two minor releases later. Use ``matplotlib.colormaps[name]`` or ``matplotlib.colormaps.get_cmap(obj)`` instead.\n",
      "  cmap = cm.get_cmap('viridis')\n"
     ]
    },
    {
     "name": "stdout",
     "output_type": "stream",
     "text": [
      "Processed file Ellipes_angle_20_degree_pos_X_15_Y_0_Z_20_Energy_1_5_Mev_PMMA_14_mm_20240827_222212.txt and saved colored histograms for all EventIDs.\n"
     ]
    },
    {
     "name": "stderr",
     "output_type": "stream",
     "text": [
      "/tmp/ipykernel_10311/3845790869.py:27: MatplotlibDeprecationWarning: The get_cmap function was deprecated in Matplotlib 3.7 and will be removed two minor releases later. Use ``matplotlib.colormaps[name]`` or ``matplotlib.colormaps.get_cmap(obj)`` instead.\n",
      "  cmap = cm.get_cmap('viridis')\n"
     ]
    },
    {
     "name": "stdout",
     "output_type": "stream",
     "text": [
      "Processed file Ellipes_angle_15_degree_pos_X_10_Y_0_Z_20_Energy_1_Mev_PMMA_14_mm_20240827_222212.txt and saved colored histograms for all EventIDs.\n"
     ]
    },
    {
     "name": "stderr",
     "output_type": "stream",
     "text": [
      "/tmp/ipykernel_10311/3845790869.py:27: MatplotlibDeprecationWarning: The get_cmap function was deprecated in Matplotlib 3.7 and will be removed two minor releases later. Use ``matplotlib.colormaps[name]`` or ``matplotlib.colormaps.get_cmap(obj)`` instead.\n",
      "  cmap = cm.get_cmap('viridis')\n"
     ]
    },
    {
     "name": "stdout",
     "output_type": "stream",
     "text": [
      "Processed file Ellipes_angle_10_degree_pos_X_0_Y_0_Z_20_Energy_1_Mev_PMMA_14_mm_20240827_222211.txt and saved colored histograms for all EventIDs.\n"
     ]
    },
    {
     "name": "stderr",
     "output_type": "stream",
     "text": [
      "/tmp/ipykernel_10311/3845790869.py:27: MatplotlibDeprecationWarning: The get_cmap function was deprecated in Matplotlib 3.7 and will be removed two minor releases later. Use ``matplotlib.colormaps[name]`` or ``matplotlib.colormaps.get_cmap(obj)`` instead.\n",
      "  cmap = cm.get_cmap('viridis')\n"
     ]
    },
    {
     "name": "stdout",
     "output_type": "stream",
     "text": [
      "Processed file Ellipes_angle_25_degree_pos_X_20_Y_0_Z_20_Energy_1_Mev_PMMA_14_mm_20240827_222212.txt and saved colored histograms for all EventIDs.\n"
     ]
    },
    {
     "name": "stderr",
     "output_type": "stream",
     "text": [
      "/tmp/ipykernel_10311/3845790869.py:27: MatplotlibDeprecationWarning: The get_cmap function was deprecated in Matplotlib 3.7 and will be removed two minor releases later. Use ``matplotlib.colormaps[name]`` or ``matplotlib.colormaps.get_cmap(obj)`` instead.\n",
      "  cmap = cm.get_cmap('viridis')\n"
     ]
    },
    {
     "name": "stdout",
     "output_type": "stream",
     "text": [
      "Processed file Ellipes_angle_5_degree_pos_X_0_Y_0_Z_20_Energy_1_Mev_PMMA_14_mm_20240827_222212.txt and saved colored histograms for all EventIDs.\n"
     ]
    },
    {
     "name": "stderr",
     "output_type": "stream",
     "text": [
      "/tmp/ipykernel_10311/3845790869.py:27: MatplotlibDeprecationWarning: The get_cmap function was deprecated in Matplotlib 3.7 and will be removed two minor releases later. Use ``matplotlib.colormaps[name]`` or ``matplotlib.colormaps.get_cmap(obj)`` instead.\n",
      "  cmap = cm.get_cmap('viridis')\n"
     ]
    },
    {
     "name": "stdout",
     "output_type": "stream",
     "text": [
      "Processed file Ellipes_angle_0_degree_pos_X_0_Y_0_Z_20_Energy_1_Mev_PMMA_14_mm_20240827_222213.txt and saved colored histograms for all EventIDs.\n"
     ]
    },
    {
     "name": "stderr",
     "output_type": "stream",
     "text": [
      "/tmp/ipykernel_10311/3845790869.py:27: MatplotlibDeprecationWarning: The get_cmap function was deprecated in Matplotlib 3.7 and will be removed two minor releases later. Use ``matplotlib.colormaps[name]`` or ``matplotlib.colormaps.get_cmap(obj)`` instead.\n",
      "  cmap = cm.get_cmap('viridis')\n"
     ]
    },
    {
     "name": "stdout",
     "output_type": "stream",
     "text": [
      "Processed file Ellipes_angle_20_degree_pos_X_15_Y_0_Z_20_Energy_1_Mev_PMMA_14_mm_20240827_222212.txt and saved colored histograms for all EventIDs.\n"
     ]
    },
    {
     "name": "stderr",
     "output_type": "stream",
     "text": [
      "/tmp/ipykernel_10311/3845790869.py:27: MatplotlibDeprecationWarning: The get_cmap function was deprecated in Matplotlib 3.7 and will be removed two minor releases later. Use ``matplotlib.colormaps[name]`` or ``matplotlib.colormaps.get_cmap(obj)`` instead.\n",
      "  cmap = cm.get_cmap('viridis')\n"
     ]
    },
    {
     "name": "stdout",
     "output_type": "stream",
     "text": [
      "Processed file Ellipes_angle_0_degree_pos_X_0_Y_0_Z_20_Energy_2_Mev_PMMA_14_mm_20240827_222213.txt and saved colored histograms for all EventIDs.\n"
     ]
    },
    {
     "name": "stderr",
     "output_type": "stream",
     "text": [
      "/tmp/ipykernel_10311/3845790869.py:27: MatplotlibDeprecationWarning: The get_cmap function was deprecated in Matplotlib 3.7 and will be removed two minor releases later. Use ``matplotlib.colormaps[name]`` or ``matplotlib.colormaps.get_cmap(obj)`` instead.\n",
      "  cmap = cm.get_cmap('viridis')\n"
     ]
    },
    {
     "name": "stdout",
     "output_type": "stream",
     "text": [
      "Processed file Ellipes_angle_10_degree_pos_X_0_Y_0_Z_20_Energy_2_Mev_PMMA_14_mm_20240827_222212.txt and saved colored histograms for all EventIDs.\n"
     ]
    },
    {
     "name": "stderr",
     "output_type": "stream",
     "text": [
      "/tmp/ipykernel_10311/3845790869.py:27: MatplotlibDeprecationWarning: The get_cmap function was deprecated in Matplotlib 3.7 and will be removed two minor releases later. Use ``matplotlib.colormaps[name]`` or ``matplotlib.colormaps.get_cmap(obj)`` instead.\n",
      "  cmap = cm.get_cmap('viridis')\n"
     ]
    },
    {
     "name": "stdout",
     "output_type": "stream",
     "text": [
      "Processed file Ellipes_angle_5_degree_pos_X_0_Y_0_Z_20_Energy_2_Mev_PMMA_14_mm_20240827_222212.txt and saved colored histograms for all EventIDs.\n"
     ]
    },
    {
     "name": "stderr",
     "output_type": "stream",
     "text": [
      "/tmp/ipykernel_10311/3845790869.py:27: MatplotlibDeprecationWarning: The get_cmap function was deprecated in Matplotlib 3.7 and will be removed two minor releases later. Use ``matplotlib.colormaps[name]`` or ``matplotlib.colormaps.get_cmap(obj)`` instead.\n",
      "  cmap = cm.get_cmap('viridis')\n"
     ]
    },
    {
     "name": "stdout",
     "output_type": "stream",
     "text": [
      "Processed file Ellipes_angle_20_degree_pos_X_15_Y_0_Z_20_Energy_2_Mev_PMMA_14_mm_20240827_222211.txt and saved colored histograms for all EventIDs.\n"
     ]
    },
    {
     "name": "stderr",
     "output_type": "stream",
     "text": [
      "/tmp/ipykernel_10311/3845790869.py:27: MatplotlibDeprecationWarning: The get_cmap function was deprecated in Matplotlib 3.7 and will be removed two minor releases later. Use ``matplotlib.colormaps[name]`` or ``matplotlib.colormaps.get_cmap(obj)`` instead.\n",
      "  cmap = cm.get_cmap('viridis')\n"
     ]
    },
    {
     "name": "stdout",
     "output_type": "stream",
     "text": [
      "Processed file Ellipes_angle_25_degree_pos_X_20_Y_0_Z_20_Energy_2_Mev_PMMA_14_mm_20240827_222212.txt and saved colored histograms for all EventIDs.\n"
     ]
    },
    {
     "name": "stderr",
     "output_type": "stream",
     "text": [
      "/tmp/ipykernel_10311/3845790869.py:27: MatplotlibDeprecationWarning: The get_cmap function was deprecated in Matplotlib 3.7 and will be removed two minor releases later. Use ``matplotlib.colormaps[name]`` or ``matplotlib.colormaps.get_cmap(obj)`` instead.\n",
      "  cmap = cm.get_cmap('viridis')\n"
     ]
    },
    {
     "name": "stdout",
     "output_type": "stream",
     "text": [
      "Processed file Ellipes_angle_15_degree_pos_X_10_Y_0_Z_20_Energy_2_Mev_PMMA_14_mm_20240827_222211.txt and saved colored histograms for all EventIDs.\n"
     ]
    },
    {
     "name": "stderr",
     "output_type": "stream",
     "text": [
      "/tmp/ipykernel_10311/3845790869.py:27: MatplotlibDeprecationWarning: The get_cmap function was deprecated in Matplotlib 3.7 and will be removed two minor releases later. Use ``matplotlib.colormaps[name]`` or ``matplotlib.colormaps.get_cmap(obj)`` instead.\n",
      "  cmap = cm.get_cmap('viridis')\n"
     ]
    },
    {
     "name": "stdout",
     "output_type": "stream",
     "text": [
      "Processed file Ellipes_angle_35_degree_pos_X_20_Y_0_Z_20_Energy_2_Mev_PMMA_14_mm_20240827_222213.txt and saved colored histograms for all EventIDs.\n",
      "All files have been processed.\n"
     ]
    }
   ],
   "source": [
    "Path_PMMA_14_Energy_1_5 = \"/home/yazeed/Desktop/Ellipse_Simulation/Organized_Data/X-Ellipses/PMMA_14_mm_Energy_1_5_Mev\"\n",
    "Path_PMMA_14_Energy_1 = \"/home/yazeed/Desktop/Ellipse_Simulation/Organized_Data/X-Ellipses/PMMA_14_mm_Energy_1_Mev\"\n",
    "Path_PMMA_14_Energy_2 = \"/home/yazeed/Desktop/Ellipse_Simulation/Organized_Data/X-Ellipses/PMMA_14_mm_Energy_2_Mev\"\n",
    "\n",
    "\n",
    "PMMA_PATHS = [Path_PMMA_14_Energy_1_5, Path_PMMA_14_Energy_1, Path_PMMA_14_Energy_2]\n",
    "\n",
    "for Data_Path in PMMA_PATHS:\n",
    "    txt_files = [f for f in os.listdir(Data_Path) if f.endswith('.txt')]\n",
    "\n",
    "    for fName in txt_files:\n",
    "        Data = pd.read_csv(os.path.join(Data_Path, fName), delimiter=\" \")\n",
    "\n",
    "        grouped = Data.groupby('EventID')\n",
    "\n",
    "        for event_id, group in grouped:\n",
    "            Vx_CP = group['VertexX']\n",
    "            Vy_CP = group['VertexY']\n",
    "\n",
    "            Vx_CP_new = Vx_CP - np.min(Vx_CP)\n",
    "            Vy_CP_new = Vy_CP - np.min(Vy_CP)\n",
    "\n",
    "            hist, xedges, yedges = np.histogram2d(Vx_CP_new, Vy_CP_new, bins=(20, 20), range=[[0, 40], [0, 40]])\n",
    "\n",
    "            hist_norm = hist / hist.max()\n",
    "\n",
    "            cmap = cm.get_cmap('viridis')  \n",
    "            hist_colored = cmap(hist_norm)\n",
    "\n",
    "            hist_img = Image.fromarray((hist_colored[:, :, :3] * 255).astype(np.uint8))\n",
    "\n",
    "            figure = os.path.join(Figure_Path, 'X_Ellipse_PMMA_14_mm')\n",
    "            if not os.path.exists(figure):\n",
    "                os.makedirs(figure)\n",
    "\n",
    "            output_file = os.path.join(figure, f\"{os.path.splitext(fName)[0]}_EventID_{event_id}.png\")\n",
    "\n",
    "            hist_img.save(output_file)\n",
    "\n",
    "        print(f\"Processed file {fName} and saved colored histograms for all EventIDs.\")\n",
    "\n",
    "print(\"All files have been processed.\")"
   ]
  },
  {
   "cell_type": "code",
   "execution_count": null,
   "id": "d288c9c8-4bc1-4ed4-a295-2e3a36cd2975",
   "metadata": {},
   "outputs": [],
   "source": []
  }
 ],
 "metadata": {
  "kernelspec": {
   "display_name": "Python 3 (ipykernel)",
   "language": "python",
   "name": "python3"
  },
  "language_info": {
   "codemirror_mode": {
    "name": "ipython",
    "version": 3
   },
   "file_extension": ".py",
   "mimetype": "text/x-python",
   "name": "python",
   "nbconvert_exporter": "python",
   "pygments_lexer": "ipython3",
   "version": "3.12.4"
  }
 },
 "nbformat": 4,
 "nbformat_minor": 5
}
